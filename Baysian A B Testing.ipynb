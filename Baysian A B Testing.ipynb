{
 "cells": [
  {
   "cell_type": "markdown",
   "id": "4acce6b0",
   "metadata": {},
   "source": [
    "### A B Testing  ( Example 1)\n",
    "\n",
    "A B Testing"
   ]
  },
  {
   "cell_type": "code",
   "execution_count": 1,
   "id": "6f95ede0",
   "metadata": {},
   "outputs": [],
   "source": [
    "# Import relevant packages\n",
    "import pandas as pd\n",
    "import numpy as np"
   ]
  },
  {
   "cell_type": "code",
   "execution_count": 4,
   "id": "9d67beb4",
   "metadata": {},
   "outputs": [
    {
     "data": {
      "text/html": [
       "<div>\n",
       "<style scoped>\n",
       "    .dataframe tbody tr th:only-of-type {\n",
       "        vertical-align: middle;\n",
       "    }\n",
       "\n",
       "    .dataframe tbody tr th {\n",
       "        vertical-align: top;\n",
       "    }\n",
       "\n",
       "    .dataframe thead th {\n",
       "        text-align: right;\n",
       "    }\n",
       "</style>\n",
       "<table border=\"1\" class=\"dataframe\">\n",
       "  <thead>\n",
       "    <tr style=\"text-align: right;\">\n",
       "      <th></th>\n",
       "      <th>timestamp</th>\n",
       "      <th>id</th>\n",
       "      <th>group</th>\n",
       "      <th>action</th>\n",
       "    </tr>\n",
       "  </thead>\n",
       "  <tbody>\n",
       "    <tr>\n",
       "      <th>0</th>\n",
       "      <td>2016-09-24 17:42:27.839496</td>\n",
       "      <td>804196</td>\n",
       "      <td>experiment</td>\n",
       "      <td>view</td>\n",
       "    </tr>\n",
       "    <tr>\n",
       "      <th>1</th>\n",
       "      <td>2016-09-24 19:19:03.542569</td>\n",
       "      <td>434745</td>\n",
       "      <td>experiment</td>\n",
       "      <td>view</td>\n",
       "    </tr>\n",
       "    <tr>\n",
       "      <th>2</th>\n",
       "      <td>2016-09-24 19:36:00.944135</td>\n",
       "      <td>507599</td>\n",
       "      <td>experiment</td>\n",
       "      <td>view</td>\n",
       "    </tr>\n",
       "    <tr>\n",
       "      <th>3</th>\n",
       "      <td>2016-09-24 19:59:02.646620</td>\n",
       "      <td>671993</td>\n",
       "      <td>control</td>\n",
       "      <td>view</td>\n",
       "    </tr>\n",
       "    <tr>\n",
       "      <th>4</th>\n",
       "      <td>2016-09-24 20:26:14.466886</td>\n",
       "      <td>536734</td>\n",
       "      <td>experiment</td>\n",
       "      <td>view</td>\n",
       "    </tr>\n",
       "  </tbody>\n",
       "</table>\n",
       "</div>"
      ],
      "text/plain": [
       "                    timestamp      id       group action\n",
       "0  2016-09-24 17:42:27.839496  804196  experiment   view\n",
       "1  2016-09-24 19:19:03.542569  434745  experiment   view\n",
       "2  2016-09-24 19:36:00.944135  507599  experiment   view\n",
       "3  2016-09-24 19:59:02.646620  671993     control   view\n",
       "4  2016-09-24 20:26:14.466886  536734  experiment   view"
      ]
     },
     "execution_count": 4,
     "metadata": {},
     "output_type": "execute_result"
    }
   ],
   "source": [
    "# Read file and inspect\n",
    "\n",
    "audacity = pd.read_csv(\"/Users/X/Documents/Jupyter_Home/AB_testing/audacity.csv\")\n",
    "audacity.head()"
   ]
  },
  {
   "cell_type": "code",
   "execution_count": 5,
   "id": "de1e8f99",
   "metadata": {},
   "outputs": [
    {
     "data": {
      "text/html": [
       "<div>\n",
       "<style scoped>\n",
       "    .dataframe tbody tr th:only-of-type {\n",
       "        vertical-align: middle;\n",
       "    }\n",
       "\n",
       "    .dataframe tbody tr th {\n",
       "        vertical-align: top;\n",
       "    }\n",
       "\n",
       "    .dataframe thead th {\n",
       "        text-align: right;\n",
       "    }\n",
       "</style>\n",
       "<table border=\"1\" class=\"dataframe\">\n",
       "  <thead>\n",
       "    <tr style=\"text-align: right;\">\n",
       "      <th></th>\n",
       "      <th>id</th>\n",
       "    </tr>\n",
       "  </thead>\n",
       "  <tbody>\n",
       "    <tr>\n",
       "      <th>count</th>\n",
       "      <td>8188.000000</td>\n",
       "    </tr>\n",
       "    <tr>\n",
       "      <th>mean</th>\n",
       "      <td>564699.749878</td>\n",
       "    </tr>\n",
       "    <tr>\n",
       "      <th>std</th>\n",
       "      <td>219085.845672</td>\n",
       "    </tr>\n",
       "    <tr>\n",
       "      <th>min</th>\n",
       "      <td>182988.000000</td>\n",
       "    </tr>\n",
       "    <tr>\n",
       "      <th>25%</th>\n",
       "      <td>373637.500000</td>\n",
       "    </tr>\n",
       "    <tr>\n",
       "      <th>50%</th>\n",
       "      <td>566840.500000</td>\n",
       "    </tr>\n",
       "    <tr>\n",
       "      <th>75%</th>\n",
       "      <td>758078.000000</td>\n",
       "    </tr>\n",
       "    <tr>\n",
       "      <th>max</th>\n",
       "      <td>937217.000000</td>\n",
       "    </tr>\n",
       "  </tbody>\n",
       "</table>\n",
       "</div>"
      ],
      "text/plain": [
       "                  id\n",
       "count    8188.000000\n",
       "mean   564699.749878\n",
       "std    219085.845672\n",
       "min    182988.000000\n",
       "25%    373637.500000\n",
       "50%    566840.500000\n",
       "75%    758078.000000\n",
       "max    937217.000000"
      ]
     },
     "execution_count": 5,
     "metadata": {},
     "output_type": "execute_result"
    }
   ],
   "source": [
    "audacity.describe()"
   ]
  },
  {
   "cell_type": "code",
   "execution_count": 6,
   "id": "89b5a991",
   "metadata": {},
   "outputs": [
    {
     "name": "stdout",
     "output_type": "stream",
     "text": [
      "<class 'pandas.core.frame.DataFrame'>\n",
      "RangeIndex: 8188 entries, 0 to 8187\n",
      "Data columns (total 4 columns):\n",
      " #   Column     Non-Null Count  Dtype \n",
      "---  ------     --------------  ----- \n",
      " 0   timestamp  8188 non-null   object\n",
      " 1   id         8188 non-null   int64 \n",
      " 2   group      8188 non-null   object\n",
      " 3   action     8188 non-null   object\n",
      "dtypes: int64(1), object(3)\n",
      "memory usage: 256.0+ KB\n"
     ]
    }
   ],
   "source": [
    "audacity.info()"
   ]
  },
  {
   "cell_type": "code",
   "execution_count": 7,
   "id": "78acc707",
   "metadata": {},
   "outputs": [
    {
     "data": {
      "text/html": [
       "<div>\n",
       "<style scoped>\n",
       "    .dataframe tbody tr th:only-of-type {\n",
       "        vertical-align: middle;\n",
       "    }\n",
       "\n",
       "    .dataframe tbody tr th {\n",
       "        vertical-align: top;\n",
       "    }\n",
       "\n",
       "    .dataframe thead th {\n",
       "        text-align: right;\n",
       "    }\n",
       "</style>\n",
       "<table border=\"1\" class=\"dataframe\">\n",
       "  <thead>\n",
       "    <tr style=\"text-align: right;\">\n",
       "      <th></th>\n",
       "      <th>timestamp</th>\n",
       "      <th>id</th>\n",
       "      <th>group</th>\n",
       "      <th>action</th>\n",
       "      <th>action2</th>\n",
       "    </tr>\n",
       "  </thead>\n",
       "  <tbody>\n",
       "    <tr>\n",
       "      <th>0</th>\n",
       "      <td>2016-09-24 17:42:27.839496</td>\n",
       "      <td>804196</td>\n",
       "      <td>experiment</td>\n",
       "      <td>view</td>\n",
       "      <td>0</td>\n",
       "    </tr>\n",
       "    <tr>\n",
       "      <th>1</th>\n",
       "      <td>2016-09-24 19:19:03.542569</td>\n",
       "      <td>434745</td>\n",
       "      <td>experiment</td>\n",
       "      <td>view</td>\n",
       "      <td>0</td>\n",
       "    </tr>\n",
       "    <tr>\n",
       "      <th>2</th>\n",
       "      <td>2016-09-24 19:36:00.944135</td>\n",
       "      <td>507599</td>\n",
       "      <td>experiment</td>\n",
       "      <td>view</td>\n",
       "      <td>0</td>\n",
       "    </tr>\n",
       "    <tr>\n",
       "      <th>3</th>\n",
       "      <td>2016-09-24 19:59:02.646620</td>\n",
       "      <td>671993</td>\n",
       "      <td>control</td>\n",
       "      <td>view</td>\n",
       "      <td>0</td>\n",
       "    </tr>\n",
       "    <tr>\n",
       "      <th>4</th>\n",
       "      <td>2016-09-24 20:26:14.466886</td>\n",
       "      <td>536734</td>\n",
       "      <td>experiment</td>\n",
       "      <td>view</td>\n",
       "      <td>0</td>\n",
       "    </tr>\n",
       "    <tr>\n",
       "      <th>5</th>\n",
       "      <td>2016-09-24 20:32:25.712659</td>\n",
       "      <td>681598</td>\n",
       "      <td>experiment</td>\n",
       "      <td>view</td>\n",
       "      <td>0</td>\n",
       "    </tr>\n",
       "    <tr>\n",
       "      <th>6</th>\n",
       "      <td>2016-09-24 20:39:03.248853</td>\n",
       "      <td>522116</td>\n",
       "      <td>experiment</td>\n",
       "      <td>view</td>\n",
       "      <td>0</td>\n",
       "    </tr>\n",
       "    <tr>\n",
       "      <th>7</th>\n",
       "      <td>2016-09-24 20:57:20.336757</td>\n",
       "      <td>349125</td>\n",
       "      <td>experiment</td>\n",
       "      <td>view</td>\n",
       "      <td>0</td>\n",
       "    </tr>\n",
       "    <tr>\n",
       "      <th>8</th>\n",
       "      <td>2016-09-24 20:58:01.948663</td>\n",
       "      <td>349125</td>\n",
       "      <td>experiment</td>\n",
       "      <td>click</td>\n",
       "      <td>1</td>\n",
       "    </tr>\n",
       "    <tr>\n",
       "      <th>9</th>\n",
       "      <td>2016-09-24 21:00:12.278374</td>\n",
       "      <td>560027</td>\n",
       "      <td>control</td>\n",
       "      <td>view</td>\n",
       "      <td>0</td>\n",
       "    </tr>\n",
       "  </tbody>\n",
       "</table>\n",
       "</div>"
      ],
      "text/plain": [
       "                    timestamp      id       group action  action2\n",
       "0  2016-09-24 17:42:27.839496  804196  experiment   view        0\n",
       "1  2016-09-24 19:19:03.542569  434745  experiment   view        0\n",
       "2  2016-09-24 19:36:00.944135  507599  experiment   view        0\n",
       "3  2016-09-24 19:59:02.646620  671993     control   view        0\n",
       "4  2016-09-24 20:26:14.466886  536734  experiment   view        0\n",
       "5  2016-09-24 20:32:25.712659  681598  experiment   view        0\n",
       "6  2016-09-24 20:39:03.248853  522116  experiment   view        0\n",
       "7  2016-09-24 20:57:20.336757  349125  experiment   view        0\n",
       "8  2016-09-24 20:58:01.948663  349125  experiment  click        1\n",
       "9  2016-09-24 21:00:12.278374  560027     control   view        0"
      ]
     },
     "execution_count": 7,
     "metadata": {},
     "output_type": "execute_result"
    }
   ],
   "source": [
    "audacity['action2'] = [1 if x == 'click' else 0 for x in audacity['action']]\n",
    "audacity.head(10)"
   ]
  },
  {
   "cell_type": "code",
   "execution_count": 8,
   "id": "04cbfcde",
   "metadata": {
    "scrolled": true
   },
   "outputs": [
    {
     "data": {
      "text/html": [
       "<div>\n",
       "<style scoped>\n",
       "    .dataframe tbody tr th:only-of-type {\n",
       "        vertical-align: middle;\n",
       "    }\n",
       "\n",
       "    .dataframe tbody tr th {\n",
       "        vertical-align: top;\n",
       "    }\n",
       "\n",
       "    .dataframe thead th {\n",
       "        text-align: right;\n",
       "    }\n",
       "</style>\n",
       "<table border=\"1\" class=\"dataframe\">\n",
       "  <thead>\n",
       "    <tr style=\"text-align: right;\">\n",
       "      <th>group</th>\n",
       "      <th>control</th>\n",
       "      <th>experiment</th>\n",
       "    </tr>\n",
       "    <tr>\n",
       "      <th>action2</th>\n",
       "      <th></th>\n",
       "      <th></th>\n",
       "    </tr>\n",
       "  </thead>\n",
       "  <tbody>\n",
       "    <tr>\n",
       "      <th>0</th>\n",
       "      <td>3332</td>\n",
       "      <td>2996</td>\n",
       "    </tr>\n",
       "    <tr>\n",
       "      <th>1</th>\n",
       "      <td>932</td>\n",
       "      <td>928</td>\n",
       "    </tr>\n",
       "  </tbody>\n",
       "</table>\n",
       "</div>"
      ],
      "text/plain": [
       "group    control  experiment\n",
       "action2                     \n",
       "0           3332        2996\n",
       "1            932         928"
      ]
     },
     "execution_count": 8,
     "metadata": {},
     "output_type": "execute_result"
    }
   ],
   "source": [
    "# Make a 2 x 2 contingency table\n",
    "table = pd.crosstab(audacity['action2'], audacity['group'], margins=False)\n",
    "table"
   ]
  },
  {
   "cell_type": "code",
   "execution_count": 9,
   "id": "5eabb95f",
   "metadata": {},
   "outputs": [
    {
     "data": {
      "text/plain": [
       "(3.636160051233291,\n",
       " 0.056537191086915774,\n",
       " 1,\n",
       " array([[3295.38251099, 3032.61748901],\n",
       "        [ 968.61748901,  891.38251099]]))"
      ]
     },
     "execution_count": 9,
     "metadata": {},
     "output_type": "execute_result"
    }
   ],
   "source": [
    "# package to conduct chi square test for independence\n",
    "from scipy.stats import chi2_contingency\n",
    "\n",
    "# Using chi2_contingency\n",
    "chi2_contingency(table)"
   ]
  },
  {
   "cell_type": "code",
   "execution_count": null,
   "id": "fe13a8a6",
   "metadata": {},
   "outputs": [],
   "source": [
    "# chi_2 statistic,  p_value , contingency table"
   ]
  },
  {
   "cell_type": "markdown",
   "id": "323f28f9",
   "metadata": {},
   "source": [
    "### A B Testing  ( Example 2)\n",
    "Camparing 2 variants: to see which one is better\n",
    "\n",
    "##### Experiment\n",
    "Comparing conversion on old webpage(control) vs new webpage (Treatement)\n",
    "purchsase conversion = converted users/exposed users"
   ]
  },
  {
   "cell_type": "code",
   "execution_count": 10,
   "id": "2338fd33",
   "metadata": {},
   "outputs": [],
   "source": [
    "## import library\n",
    "import pandas as pd\n",
    "import numpy as np\n",
    "import datetime\n",
    "from scipy.stats import chi2_contingency, beta\n",
    "from IPython.display import Image"
   ]
  },
  {
   "cell_type": "markdown",
   "id": "da5f295f",
   "metadata": {},
   "source": [
    "###### Data from kaggle https://www.kaggle.com/zhangluyuan/ab-testing"
   ]
  },
  {
   "cell_type": "code",
   "execution_count": 13,
   "id": "9af621ee",
   "metadata": {},
   "outputs": [],
   "source": [
    "## Data processing\n",
    "df =pd.read_csv('/Users/DPrempeh/Documents/Jupyter_Home/AB_testing/ab_data.csv')  "
   ]
  },
  {
   "cell_type": "code",
   "execution_count": 14,
   "id": "710d564b",
   "metadata": {},
   "outputs": [
    {
     "data": {
      "text/html": [
       "<div>\n",
       "<style scoped>\n",
       "    .dataframe tbody tr th:only-of-type {\n",
       "        vertical-align: middle;\n",
       "    }\n",
       "\n",
       "    .dataframe tbody tr th {\n",
       "        vertical-align: top;\n",
       "    }\n",
       "\n",
       "    .dataframe thead th {\n",
       "        text-align: right;\n",
       "    }\n",
       "</style>\n",
       "<table border=\"1\" class=\"dataframe\">\n",
       "  <thead>\n",
       "    <tr style=\"text-align: right;\">\n",
       "      <th></th>\n",
       "      <th>user_id</th>\n",
       "      <th>timestamp</th>\n",
       "      <th>group</th>\n",
       "      <th>landing_page</th>\n",
       "      <th>converted</th>\n",
       "    </tr>\n",
       "  </thead>\n",
       "  <tbody>\n",
       "    <tr>\n",
       "      <th>0</th>\n",
       "      <td>851104</td>\n",
       "      <td>2017-01-21 22:11:48.556739</td>\n",
       "      <td>control</td>\n",
       "      <td>old_page</td>\n",
       "      <td>0</td>\n",
       "    </tr>\n",
       "    <tr>\n",
       "      <th>1</th>\n",
       "      <td>804228</td>\n",
       "      <td>2017-01-12 08:01:45.159739</td>\n",
       "      <td>control</td>\n",
       "      <td>old_page</td>\n",
       "      <td>0</td>\n",
       "    </tr>\n",
       "    <tr>\n",
       "      <th>2</th>\n",
       "      <td>661590</td>\n",
       "      <td>2017-01-11 16:55:06.154213</td>\n",
       "      <td>treatment</td>\n",
       "      <td>new_page</td>\n",
       "      <td>0</td>\n",
       "    </tr>\n",
       "    <tr>\n",
       "      <th>3</th>\n",
       "      <td>853541</td>\n",
       "      <td>2017-01-08 18:28:03.143765</td>\n",
       "      <td>treatment</td>\n",
       "      <td>new_page</td>\n",
       "      <td>0</td>\n",
       "    </tr>\n",
       "    <tr>\n",
       "      <th>4</th>\n",
       "      <td>864975</td>\n",
       "      <td>2017-01-21 01:52:26.210827</td>\n",
       "      <td>control</td>\n",
       "      <td>old_page</td>\n",
       "      <td>1</td>\n",
       "    </tr>\n",
       "  </tbody>\n",
       "</table>\n",
       "</div>"
      ],
      "text/plain": [
       "   user_id                   timestamp      group landing_page  converted\n",
       "0   851104  2017-01-21 22:11:48.556739    control     old_page          0\n",
       "1   804228  2017-01-12 08:01:45.159739    control     old_page          0\n",
       "2   661590  2017-01-11 16:55:06.154213  treatment     new_page          0\n",
       "3   853541  2017-01-08 18:28:03.143765  treatment     new_page          0\n",
       "4   864975  2017-01-21 01:52:26.210827    control     old_page          1"
      ]
     },
     "execution_count": 14,
     "metadata": {},
     "output_type": "execute_result"
    }
   ],
   "source": [
    "df.head()"
   ]
  },
  {
   "cell_type": "markdown",
   "id": "480f3fa3",
   "metadata": {},
   "source": [
    "* Timestamp: time the user is first exposed\n",
    "* group: bucket\n",
    "* landing page: which page are they seeing\n",
    "* converted: initialized to 0. changes to 1 if user makes purchase within 7 days of first purchase"
   ]
  },
  {
   "cell_type": "code",
   "execution_count": 18,
   "id": "abf43766",
   "metadata": {},
   "outputs": [
    {
     "data": {
      "text/plain": [
       "(294478, 5)"
      ]
     },
     "execution_count": 18,
     "metadata": {},
     "output_type": "execute_result"
    }
   ],
   "source": [
    "df.shape"
   ]
  },
  {
   "cell_type": "code",
   "execution_count": 19,
   "id": "fd48eed8",
   "metadata": {},
   "outputs": [
    {
     "name": "stdout",
     "output_type": "stream",
     "text": [
      "Number of unique users in experiment: 290584\n",
      "Data collected for  21 days\n",
      "Landing Pages to compare: ['old_page', 'new_page']\n",
      "Percent of users in control: 50%\n",
      "Percent of users in treatment: 50%\n"
     ]
    }
   ],
   "source": [
    "## Data Summary\n",
    "start_time = datetime.datetime.strptime(df['timestamp'].min(), '%Y-%m-%d %H:%M:%S.%f')\n",
    "end_time  =  datetime.datetime.strptime(df['timestamp'].max(), '%Y-%m-%d %H:%M:%S.%f')\n",
    "data_duration = (end_time - start_time).days\n",
    "\n",
    "print(f\"Number of unique users in experiment: {df['user_id'].nunique()}\")\n",
    "print(f\"Data collected for  {data_duration} days\")\n",
    "print(f\"Landing Pages to compare: {df['landing_page'].unique().tolist()}\")\n",
    "print(f\"Percent of users in control: {round(df[df['group']=='control'].shape[0] * 100/df.shape[0])}%\")\n",
    "print(f\"Percent of users in treatment: {round(df[df['group']=='treatment'].shape[0] * 100/df.shape[0])}%\")"
   ]
  },
  {
   "cell_type": "code",
   "execution_count": 20,
   "id": "269b5918",
   "metadata": {},
   "outputs": [
    {
     "data": {
      "text/plain": [
       "user_id          int64\n",
       "timestamp       object\n",
       "group           object\n",
       "landing_page    object\n",
       "converted        int64\n",
       "dtype: object"
      ]
     },
     "execution_count": 20,
     "metadata": {},
     "output_type": "execute_result"
    }
   ],
   "source": [
    "df.dtypes"
   ]
  },
  {
   "cell_type": "markdown",
   "id": "3d1f7b7d",
   "metadata": {},
   "source": [
    "###### Data dictionary\n",
    "timestamp: time user is first exposed\n",
    "group: bucket\n",
    "landing_page: treatment or control group\n",
    "converted: converted or not\n",
    "\n",
    "###### Processing\n",
    "Get time stamp of first exposure\n",
    "Remove users with multiple buckets"
   ]
  },
  {
   "cell_type": "code",
   "execution_count": 21,
   "id": "552f7887",
   "metadata": {},
   "outputs": [
    {
     "data": {
      "text/html": [
       "<div>\n",
       "<style scoped>\n",
       "    .dataframe tbody tr th:only-of-type {\n",
       "        vertical-align: middle;\n",
       "    }\n",
       "\n",
       "    .dataframe tbody tr th {\n",
       "        vertical-align: top;\n",
       "    }\n",
       "\n",
       "    .dataframe thead th {\n",
       "        text-align: right;\n",
       "    }\n",
       "</style>\n",
       "<table border=\"1\" class=\"dataframe\">\n",
       "  <thead>\n",
       "    <tr style=\"text-align: right;\">\n",
       "      <th></th>\n",
       "      <th>user_id</th>\n",
       "      <th>timestamp</th>\n",
       "      <th>group</th>\n",
       "      <th>landing_page</th>\n",
       "      <th>converted</th>\n",
       "    </tr>\n",
       "  </thead>\n",
       "  <tbody>\n",
       "    <tr>\n",
       "      <th>29073</th>\n",
       "      <td>746755</td>\n",
       "      <td>2017-01-11 01:28:57.083669</td>\n",
       "      <td>control</td>\n",
       "      <td>new_page</td>\n",
       "      <td>1</td>\n",
       "    </tr>\n",
       "    <tr>\n",
       "      <th>105487</th>\n",
       "      <td>722274</td>\n",
       "      <td>2017-01-19 01:46:53.093257</td>\n",
       "      <td>control</td>\n",
       "      <td>old_page</td>\n",
       "      <td>0</td>\n",
       "    </tr>\n",
       "    <tr>\n",
       "      <th>262554</th>\n",
       "      <td>722274</td>\n",
       "      <td>2017-01-09 21:21:23.638444</td>\n",
       "      <td>control</td>\n",
       "      <td>new_page</td>\n",
       "      <td>0</td>\n",
       "    </tr>\n",
       "    <tr>\n",
       "      <th>286566</th>\n",
       "      <td>746755</td>\n",
       "      <td>2017-01-05 03:40:08.457451</td>\n",
       "      <td>control</td>\n",
       "      <td>old_page</td>\n",
       "      <td>0</td>\n",
       "    </tr>\n",
       "  </tbody>\n",
       "</table>\n",
       "</div>"
      ],
      "text/plain": [
       "        user_id                   timestamp    group landing_page  converted\n",
       "29073    746755  2017-01-11 01:28:57.083669  control     new_page          1\n",
       "105487   722274  2017-01-19 01:46:53.093257  control     old_page          0\n",
       "262554   722274  2017-01-09 21:21:23.638444  control     new_page          0\n",
       "286566   746755  2017-01-05 03:40:08.457451  control     old_page          0"
      ]
     },
     "execution_count": 21,
     "metadata": {},
     "output_type": "execute_result"
    }
   ],
   "source": [
    "#duplicate users in both groups\n",
    "sample = df[df['user_id'].isin([746755,722274])]\n",
    "sample"
   ]
  },
  {
   "cell_type": "code",
   "execution_count": 22,
   "id": "d7d575dc",
   "metadata": {},
   "outputs": [
    {
     "data": {
      "text/html": [
       "<div>\n",
       "<style scoped>\n",
       "    .dataframe tbody tr th:only-of-type {\n",
       "        vertical-align: middle;\n",
       "    }\n",
       "\n",
       "    .dataframe tbody tr th {\n",
       "        vertical-align: top;\n",
       "    }\n",
       "\n",
       "    .dataframe thead th {\n",
       "        text-align: right;\n",
       "    }\n",
       "</style>\n",
       "<table border=\"1\" class=\"dataframe\">\n",
       "  <thead>\n",
       "    <tr style=\"text-align: right;\">\n",
       "      <th></th>\n",
       "      <th>user_id</th>\n",
       "      <th>timestamp</th>\n",
       "      <th>group</th>\n",
       "      <th>landing_page</th>\n",
       "      <th>converted</th>\n",
       "    </tr>\n",
       "  </thead>\n",
       "  <tbody>\n",
       "    <tr>\n",
       "      <th>0</th>\n",
       "      <td>722274</td>\n",
       "      <td>2017-01-09 21:21:23.638444</td>\n",
       "      <td>control</td>\n",
       "      <td>new_page</td>\n",
       "      <td>0</td>\n",
       "    </tr>\n",
       "    <tr>\n",
       "      <th>1</th>\n",
       "      <td>746755</td>\n",
       "      <td>2017-01-05 03:40:08.457451</td>\n",
       "      <td>control</td>\n",
       "      <td>old_page</td>\n",
       "      <td>0</td>\n",
       "    </tr>\n",
       "  </tbody>\n",
       "</table>\n",
       "</div>"
      ],
      "text/plain": [
       "   user_id                   timestamp    group landing_page  converted\n",
       "0   722274  2017-01-09 21:21:23.638444  control     new_page          0\n",
       "1   746755  2017-01-05 03:40:08.457451  control     old_page          0"
      ]
     },
     "execution_count": 22,
     "metadata": {},
     "output_type": "execute_result"
    }
   ],
   "source": [
    "## get time stamp of first exposure\n",
    "first_conv = sample.groupby('user_id')['timestamp'].min().to_frame().reset_index()\n",
    "sample = sample.merge(first_conv, on=['user_id', 'timestamp'])\n",
    "sample"
   ]
  },
  {
   "cell_type": "code",
   "execution_count": 23,
   "id": "0ff71283",
   "metadata": {},
   "outputs": [
    {
     "data": {
      "text/plain": [
       "False    286690\n",
       "True       3894\n",
       "Name: user_id, dtype: int64"
      ]
     },
     "execution_count": 23,
     "metadata": {},
     "output_type": "execute_result"
    }
   ],
   "source": [
    "#users in multiple groups\n",
    "counter = df['user_id'].value_counts()\n",
    "(counter > 1).value_counts()"
   ]
  },
  {
   "cell_type": "code",
   "execution_count": 24,
   "id": "a2f2a669",
   "metadata": {},
   "outputs": [],
   "source": [
    "# remove users in both groups\n",
    "valid_users = pd.DataFrame(counter[counter==1].index, columns =['user_id'])\n",
    "df = df.merge(valid_users, on=['user_id'])"
   ]
  },
  {
   "cell_type": "code",
   "execution_count": 25,
   "id": "01d55dd5",
   "metadata": {},
   "outputs": [],
   "source": [
    "#add week column to see the data as you would during experiment\n",
    "df['week'] = df['timestamp'].apply(lambda x: datetime.datetime.strptime(x, '%Y-%m-%d %H:%M:%S.%f').isocalendar()[1])"
   ]
  },
  {
   "cell_type": "code",
   "execution_count": 26,
   "id": "5966b094",
   "metadata": {},
   "outputs": [
    {
     "data": {
      "text/html": [
       "<div>\n",
       "<style scoped>\n",
       "    .dataframe tbody tr th:only-of-type {\n",
       "        vertical-align: middle;\n",
       "    }\n",
       "\n",
       "    .dataframe tbody tr th {\n",
       "        vertical-align: top;\n",
       "    }\n",
       "\n",
       "    .dataframe thead th {\n",
       "        text-align: right;\n",
       "    }\n",
       "</style>\n",
       "<table border=\"1\" class=\"dataframe\">\n",
       "  <thead>\n",
       "    <tr style=\"text-align: right;\">\n",
       "      <th></th>\n",
       "      <th>user_id</th>\n",
       "      <th>timestamp</th>\n",
       "      <th>group</th>\n",
       "      <th>landing_page</th>\n",
       "      <th>converted</th>\n",
       "      <th>week</th>\n",
       "    </tr>\n",
       "  </thead>\n",
       "  <tbody>\n",
       "    <tr>\n",
       "      <th>0</th>\n",
       "      <td>851104</td>\n",
       "      <td>2017-01-21 22:11:48.556739</td>\n",
       "      <td>control</td>\n",
       "      <td>old_page</td>\n",
       "      <td>0</td>\n",
       "      <td>3</td>\n",
       "    </tr>\n",
       "    <tr>\n",
       "      <th>1</th>\n",
       "      <td>804228</td>\n",
       "      <td>2017-01-12 08:01:45.159739</td>\n",
       "      <td>control</td>\n",
       "      <td>old_page</td>\n",
       "      <td>0</td>\n",
       "      <td>2</td>\n",
       "    </tr>\n",
       "    <tr>\n",
       "      <th>2</th>\n",
       "      <td>661590</td>\n",
       "      <td>2017-01-11 16:55:06.154213</td>\n",
       "      <td>treatment</td>\n",
       "      <td>new_page</td>\n",
       "      <td>0</td>\n",
       "      <td>2</td>\n",
       "    </tr>\n",
       "    <tr>\n",
       "      <th>3</th>\n",
       "      <td>853541</td>\n",
       "      <td>2017-01-08 18:28:03.143765</td>\n",
       "      <td>treatment</td>\n",
       "      <td>new_page</td>\n",
       "      <td>0</td>\n",
       "      <td>1</td>\n",
       "    </tr>\n",
       "    <tr>\n",
       "      <th>4</th>\n",
       "      <td>864975</td>\n",
       "      <td>2017-01-21 01:52:26.210827</td>\n",
       "      <td>control</td>\n",
       "      <td>old_page</td>\n",
       "      <td>1</td>\n",
       "      <td>3</td>\n",
       "    </tr>\n",
       "  </tbody>\n",
       "</table>\n",
       "</div>"
      ],
      "text/plain": [
       "   user_id                   timestamp      group landing_page  converted  \\\n",
       "0   851104  2017-01-21 22:11:48.556739    control     old_page          0   \n",
       "1   804228  2017-01-12 08:01:45.159739    control     old_page          0   \n",
       "2   661590  2017-01-11 16:55:06.154213  treatment     new_page          0   \n",
       "3   853541  2017-01-08 18:28:03.143765  treatment     new_page          0   \n",
       "4   864975  2017-01-21 01:52:26.210827    control     old_page          1   \n",
       "\n",
       "   week  \n",
       "0     3  \n",
       "1     2  \n",
       "2     2  \n",
       "3     1  \n",
       "4     3  "
      ]
     },
     "execution_count": 26,
     "metadata": {},
     "output_type": "execute_result"
    }
   ],
   "source": [
    "df.head()"
   ]
  },
  {
   "cell_type": "code",
   "execution_count": 27,
   "id": "ca5b2f39",
   "metadata": {},
   "outputs": [
    {
     "data": {
      "text/plain": [
       "2    91380\n",
       "3    91056\n",
       "1    83745\n",
       "4    20509\n",
       "Name: week, dtype: int64"
      ]
     },
     "execution_count": 27,
     "metadata": {},
     "output_type": "execute_result"
    }
   ],
   "source": [
    "df['week'].value_counts()"
   ]
  },
  {
   "cell_type": "markdown",
   "id": "f1d77cde",
   "metadata": {},
   "source": [
    "##### Experiment: Frequentist Approach"
   ]
  },
  {
   "cell_type": "code",
   "execution_count": 65,
   "id": "83cf5e7e",
   "metadata": {},
   "outputs": [
    {
     "name": "stdout",
     "output_type": "stream",
     "text": [
      "Treatment Conversion Rate:  12.055 %\n",
      "Control Conversion Rate: collected for  12.342 %\n",
      "Lift =  -0.287 %\n"
     ]
    }
   ],
   "source": [
    "#get stats\n",
    "num_weeks = 4  #vary num to get expr data at weekly points in time\n",
    "experiment_data = df[df['week'] == num_weeks]\n",
    "control = experiment_data[experiment_data['group'] == 'control']\n",
    "treatment = experiment_data[experiment_data['group'] == 'treatment']\n",
    "\n",
    "control_conversion_perc = round(control['converted'].sum() * 100/control['converted'].count(),3)\n",
    "treatment_conversion_perc = round(treatment['converted'].sum() * 100/treatment['converted'].count(),3)\n",
    "lift = round(treatment_conversion_perc - control_conversion_perc, 3)\n",
    "\n",
    "print(f\"Treatment Conversion Rate:  {treatment_conversion_perc} %\")\n",
    "print(f\"Control Conversion Rate: collected for  {control_conversion_perc} %\")\n",
    "print(f\"Lift =  {lift} %\")"
   ]
  },
  {
   "cell_type": "markdown",
   "id": "568459cf",
   "metadata": {},
   "source": [
    "Chi-Squared Test\n",
    "\n",
    "H0: control and Treatment are independent\n",
    "\n",
    "Ha: control and Treatement are not independent"
   ]
  },
  {
   "cell_type": "code",
   "execution_count": 66,
   "id": "ac7d4973",
   "metadata": {},
   "outputs": [],
   "source": [
    "#Create contigency table for chi squared test\n",
    "control_converted = control['converted'].sum()\n",
    "treatment_converted = treatment['converted'].sum()\n",
    "control_non_converted = control['converted'].count() - control_converted\n",
    "treatment_non_converted = treatment['converted'].count() - treatment_converted\n",
    "contingency_table = np.array([([control_converted, control_non_converted],\n",
    "                              [treatment_converted,treatment_non_converted])])"
   ]
  },
  {
   "cell_type": "code",
   "execution_count": 61,
   "id": "a0f011b3",
   "metadata": {},
   "outputs": [
    {
     "data": {
      "text/plain": [
       "array([[[1276, 9063],\n",
       "        [1226, 8944]]])"
      ]
     },
     "execution_count": 61,
     "metadata": {},
     "output_type": "execute_result"
    }
   ],
   "source": [
    "contingency_table"
   ]
  },
  {
   "cell_type": "code",
   "execution_count": 62,
   "id": "75cccd17",
   "metadata": {},
   "outputs": [],
   "source": [
    "chi, p_value, _, _ = chi2_contingency(contingency_table, correction = False)"
   ]
  },
  {
   "cell_type": "code",
   "execution_count": 63,
   "id": "6b9a2c34",
   "metadata": {},
   "outputs": [
    {
     "data": {
      "text/plain": [
       "(0.3930355978684115, 0.5307080630950074)"
      ]
     },
     "execution_count": 63,
     "metadata": {},
     "output_type": "execute_result"
    }
   ],
   "source": [
    "chi, p_value"
   ]
  },
  {
   "cell_type": "markdown",
   "id": "3b2e0f80",
   "metadata": {},
   "source": [
    "Since pvalue (0.53) is not less than 0.05 we fail to reject the null hypotheiss"
   ]
  },
  {
   "cell_type": "code",
   "execution_count": 64,
   "id": "2e6e252e",
   "metadata": {},
   "outputs": [
    {
     "name": "stdout",
     "output_type": "stream",
     "text": [
      " We are: 53.07% confident that our lift = -0.287% \n"
     ]
    }
   ],
   "source": [
    "print(f\" We are: {round(p_value * 100,2)}% confident that our lift = {lift}% \")"
   ]
  },
  {
   "cell_type": "code",
   "execution_count": 34,
   "id": "11e3fa00",
   "metadata": {},
   "outputs": [
    {
     "data": {
      "text/plain": [
       "(0.36673808308793066,\n",
       " 0.5447876832853289,\n",
       " 1,\n",
       " array([[9077.69140377, 8929.30859623],\n",
       "        [1261.30859623, 1240.69140377]]))"
      ]
     },
     "execution_count": 34,
     "metadata": {},
     "output_type": "execute_result"
    }
   ],
   "source": [
    "### Repeating with less code\n",
    "\n",
    "# Make a 2 x 2 contingency table\n",
    "tableX = df[df['week'] == 4]  #vary num to get expr data at weekly points in time\n",
    "\n",
    "tableX = pd.crosstab(tableX['converted'], tableX['group'], margins=False)\n",
    "tableX\n",
    "\n",
    "from scipy.stats import chi2_contingency\n",
    "# Using chi2_contingency\n",
    "chi2_contingency(tableX)\n",
    "\n",
    "\n",
    "# chi_2 statistic,  p_value , contingency table\n",
    "\n"
   ]
  },
  {
   "cell_type": "code",
   "execution_count": null,
   "id": "6af94639",
   "metadata": {},
   "outputs": [],
   "source": []
  },
  {
   "cell_type": "code",
   "execution_count": 31,
   "id": "d8e5405e",
   "metadata": {},
   "outputs": [
    {
     "data": {
      "image/png": "[encoded data removed]",
      "text/plain": [
       "<IPython.core.display.Image object>"
      ]
     },
     "execution_count": 31,
     "metadata": {},
     "output_type": "execute_result"
    }
   ],
   "source": [
    "Image(filename ='/Users/DPrempeh/Documents/Jupyter_Home/AB_testing/frequentist_vs_baysian.png')"
   ]
  },
  {
   "cell_type": "markdown",
   "id": "c8e58d0a",
   "metadata": {},
   "source": [
    "##### Experiment: Baysian Approach\n",
    "\n",
    "Prior distribution -> experiment  -> post distribution"
   ]
  },
  {
   "cell_type": "code",
   "execution_count": 68,
   "id": "1d916a3b",
   "metadata": {},
   "outputs": [],
   "source": [
    "prior = df[(df['week'] == 1) & (df['group'] == 'control')]"
   ]
  },
  {
   "cell_type": "code",
   "execution_count": 69,
   "id": "401ec380",
   "metadata": {},
   "outputs": [],
   "source": [
    "prior_means = []\n",
    "for i in range(10000):\n",
    "    prior_means.append(prior.sample(1000)['converted'].mean())"
   ]
  },
  {
   "cell_type": "code",
   "execution_count": 70,
   "id": "0fe1cf96",
   "metadata": {},
   "outputs": [
    {
     "data": {
      "text/plain": [
       "[0.122, 0.128, 0.114, 0.133, 0.119, 0.112, 0.129, 0.105, 0.12, 0.127]"
      ]
     },
     "execution_count": 70,
     "metadata": {},
     "output_type": "execute_result"
    }
   ],
   "source": [
    "prior_means[:10]"
   ]
  },
  {
   "cell_type": "code",
   "execution_count": 71,
   "id": "69a58bc7",
   "metadata": {},
   "outputs": [],
   "source": [
    "#model beta distribution from sample mean\n",
    "prior_alpha, prior_beta, _ , _ = beta.fit(prior_means, floc =0,fscale =1)"
   ]
  },
  {
   "cell_type": "code",
   "execution_count": 72,
   "id": "ab40f758",
   "metadata": {},
   "outputs": [
    {
     "name": "stdout",
     "output_type": "stream",
     "text": [
      "Treatment Conversion Rate:  11.817 %\n",
      "Control Conversion Rate: collected for  11.925 %\n",
      "Lift =  -0.009 %\n"
     ]
    }
   ],
   "source": [
    "#get stats\n",
    "num_weeks = 2  #vary num to get expr data at weekly points in time\n",
    "experiment_data = df[(df['week'] > 1) & (df['week'] <= num_weeks)]\n",
    "control = experiment_data[experiment_data['group'] == 'control']\n",
    "treatment = experiment_data[experiment_data['group'] == 'treatment']\n",
    "\n",
    "control_conversion_perc = round(control['converted'].sum() * 100/control['converted'].count(),3)\n",
    "treatment_conversion_perc = round(treatment['converted'].sum() * 100/treatment['converted'].count(),3)\n",
    "lift = round((treatment_conversion_perc - control_conversion_perc)/ control_conversion_perc, 3)\n",
    "\n",
    "print(f\"Treatment Conversion Rate:  {treatment_conversion_perc} %\")\n",
    "print(f\"Control Conversion Rate: collected for  {control_conversion_perc} %\")\n",
    "print(f\"Lift =  {lift} %\")\n"
   ]
  },
  {
   "cell_type": "code",
   "execution_count": 73,
   "id": "7faf99f9",
   "metadata": {},
   "outputs": [
    {
     "name": "stdout",
     "output_type": "stream",
     "text": [
      "Probability that treatment > control  31.2 %\n"
     ]
    }
   ],
   "source": [
    "#Create contigency table for chi squared test\n",
    "control_converted = control['converted'].sum()\n",
    "treatment_converted = treatment['converted'].sum()\n",
    "control_non_converted = control['converted'].count() - control_converted\n",
    "treatment_non_converted = treatment['converted'].count() - treatment_converted\n",
    "\n",
    "#update prior parameters with experiment conversion rates\n",
    "posterior_control = beta(prior_alpha + control_converted, prior_beta + control_non_converted)\n",
    "posterior_treatment = beta(prior_alpha + treatment_converted, prior_beta + treatment_non_converted)\n",
    "\n",
    "#sample from posteriors\n",
    "control_samples = posterior_control.rvs(1000)\n",
    "treatment_samples = posterior_treatment.rvs(1000)\n",
    "probability = np.mean(treatment_samples > control_samples)\n",
    "print(f\"Probability that treatment > control  {probability * 100} %\")"
   ]
  },
  {
   "cell_type": "code",
   "execution_count": 74,
   "id": "1bf1be78",
   "metadata": {},
   "outputs": [
    {
     "name": "stdout",
     "output_type": "stream",
     "text": [
      "control posterior: mean  0.11925212452831274, Variance: 2.2482126200287495e-06\n",
      "treatment posterior: mean  0.11819935070823354, Variance: 2.230551246791972e-06\n"
     ]
    }
   ],
   "source": [
    "(control_mu),(control_var) = posterior_control.stats()\n",
    "(treatment_mu), (treatment_var) = posterior_treatment.stats()\n",
    "print(f\"control posterior: mean  {control_mu}, Variance: {control_var}\")\n",
    "print(f\"treatment posterior: mean  {treatment_mu}, Variance: {treatment_var}\")"
   ]
  },
  {
   "cell_type": "markdown",
   "id": "4ab090cf",
   "metadata": {},
   "source": [
    "We can make statements like the following which are actionable"
   ]
  },
  {
   "cell_type": "code",
   "execution_count": 75,
   "id": "4236d53d",
   "metadata": {},
   "outputs": [
    {
     "name": "stdout",
     "output_type": "stream",
     "text": [
      "Probability that we are seeing a 2% lift:  5.2 %\n"
     ]
    }
   ],
   "source": [
    "lift_percentage = (treatment_samples - control_samples)/ control_samples\n",
    "print(f\"Probability that we are seeing a 2% lift:  {np.mean((100* lift_percentage) > 2) * 100} %\")"
   ]
  },
  {
   "cell_type": "code",
   "execution_count": 18,
   "id": "d61426c4",
   "metadata": {},
   "outputs": [
    {
     "name": "stdout",
     "output_type": "stream",
     "text": [
      "2022-01-21\n",
      "datetime.IsoCalendarDate(year=2022, week=3, weekday=5)\n"
     ]
    }
   ],
   "source": [
    "# using isocalendars\n",
    "Todays_date = datetime.date.today()\n",
    "print(Todays_date)\n",
    "print(Todays_date.isocalendar())"
   ]
  },
  {
   "cell_type": "code",
   "execution_count": null,
   "id": "a2c496c6",
   "metadata": {},
   "outputs": [],
   "source": []
  }
 ],
 "metadata": {
  "kernelspec": {
   "display_name": "Python 3 (ipykernel)",
   "language": "python",
   "name": "python3"
  },
  "language_info": {
   "codemirror_mode": {
    "name": "ipython",
    "version": 3
   },
   "file_extension": ".py",
   "mimetype": "text/x-python",
   "name": "python",
   "nbconvert_exporter": "python",
   "pygments_lexer": "ipython3",
   "version": "3.9.18"
  }
 },
 "nbformat": 4,
 "nbformat_minor": 5
}
